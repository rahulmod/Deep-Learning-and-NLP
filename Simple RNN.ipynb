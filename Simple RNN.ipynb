{
 "cells": [
  {
   "cell_type": "code",
   "execution_count": 2,
   "metadata": {},
   "outputs": [],
   "source": [
    "#RNN is used to solve NLP problems; IT differs from traditional neural network in creating hidden layers/states in a single layer itself\n",
    "#In traditioal NN, it doesnt remember context, i.e. prvious scenes/data;\n",
    "# RNN remembers previous few context/words to draw conclusion based on these context and new event\n",
    "#LSTM (special RNN) remembers more words\n",
    "#it can predict next word from last few words\n",
    "#e.g. The color of the Sky is ______\n",
    "import keras\n",
    "from keras.datasets import imdb\n",
    "from keras.models import Sequential\n",
    "from keras.layers import Dense, Dropout, Embedding, SpatialDropout1D, SimpleRNN\n",
    "from keras.preprocessing.sequence import pad_sequences"
   ]
  },
  {
   "cell_type": "code",
   "execution_count": 3,
   "metadata": {},
   "outputs": [],
   "source": [
    "#Hyperparameters\n",
    "\n",
    "output_dir = 'model_output/simplernn'\n",
    "epochs = 16\n",
    "batch_size=128\n",
    "\n",
    "n_dim=64\n",
    "n_unique_words = 10000\n",
    "max_review_len = 100\n",
    "pad_type='pre'\n",
    "trunc_type='pre'\n",
    "drop_embed=0.2\n",
    " \n",
    "n_rnn=256 # rnn layers\n",
    "drop_rnn=0.2 #20%  ; neurons\n",
    "\n",
    "n_dense=256\n",
    "dropout=0.2\n"
   ]
  },
  {
   "cell_type": "code",
   "execution_count": 5,
   "metadata": {},
   "outputs": [],
   "source": [
    "(x_train, y_train), (x_valid, y_valid) = imdb.load_data(num_words=n_unique_words)"
   ]
  },
  {
   "cell_type": "code",
   "execution_count": 7,
   "metadata": {},
   "outputs": [],
   "source": [
    "x_train = pad_sequences(x_train, maxlen=max_review_len, padding=pad_type, truncating=trunc_type, value=0)"
   ]
  },
  {
   "cell_type": "code",
   "execution_count": 8,
   "metadata": {},
   "outputs": [],
   "source": [
    "x_valid = pad_sequences(x_valid, maxlen=max_review_len, padding=pad_type, truncating=trunc_type, value=0)"
   ]
  },
  {
   "cell_type": "code",
   "execution_count": 9,
   "metadata": {},
   "outputs": [
    {
     "name": "stdout",
     "output_type": "stream",
     "text": [
      "WARNING:tensorflow:From D:\\Anaconda3\\lib\\site-packages\\tensorflow\\python\\framework\\op_def_library.py:263: colocate_with (from tensorflow.python.framework.ops) is deprecated and will be removed in a future version.\n",
      "Instructions for updating:\n",
      "Colocations handled automatically by placer.\n",
      "WARNING:tensorflow:From D:\\Anaconda3\\lib\\site-packages\\keras\\backend\\tensorflow_backend.py:3445: calling dropout (from tensorflow.python.ops.nn_ops) with keep_prob is deprecated and will be removed in a future version.\n",
      "Instructions for updating:\n",
      "Please use `rate` instead of `keep_prob`. Rate should be set to `rate = 1 - keep_prob`.\n"
     ]
    }
   ],
   "source": [
    "model = Sequential()\n",
    "model.add(Embedding(n_unique_words, n_dim, input_length=max_review_len))\n",
    "model.add(SpatialDropout1D(drop_embed))\n",
    "model.add(SimpleRNN(n_rnn, dropout= drop_rnn))\n",
    "model.add(Dense(1, activation='sigmoid'))"
   ]
  },
  {
   "cell_type": "code",
   "execution_count": 10,
   "metadata": {},
   "outputs": [
    {
     "name": "stdout",
     "output_type": "stream",
     "text": [
      "_________________________________________________________________\n",
      "Layer (type)                 Output Shape              Param #   \n",
      "=================================================================\n",
      "embedding_1 (Embedding)      (None, 100, 64)           640000    \n",
      "_________________________________________________________________\n",
      "spatial_dropout1d_1 (Spatial (None, 100, 64)           0         \n",
      "_________________________________________________________________\n",
      "simple_rnn_1 (SimpleRNN)     (None, 256)               82176     \n",
      "_________________________________________________________________\n",
      "dense_1 (Dense)              (None, 1)                 257       \n",
      "=================================================================\n",
      "Total params: 722,433\n",
      "Trainable params: 722,433\n",
      "Non-trainable params: 0\n",
      "_________________________________________________________________\n"
     ]
    }
   ],
   "source": [
    "model.summary()"
   ]
  },
  {
   "cell_type": "code",
   "execution_count": 11,
   "metadata": {},
   "outputs": [],
   "source": [
    "model.compile(loss='binary_crossentropy', optimizer='adam', metrics=['accuracy'])"
   ]
  },
  {
   "cell_type": "code",
   "execution_count": 12,
   "metadata": {},
   "outputs": [
    {
     "name": "stdout",
     "output_type": "stream",
     "text": [
      "WARNING:tensorflow:From D:\\Anaconda3\\lib\\site-packages\\tensorflow\\python\\ops\\math_ops.py:3066: to_int32 (from tensorflow.python.ops.math_ops) is deprecated and will be removed in a future version.\n",
      "Instructions for updating:\n",
      "Use tf.cast instead.\n",
      "Train on 25000 samples, validate on 25000 samples\n",
      "Epoch 1/16\n",
      "25000/25000 [==============================] - 35s 1ms/step - loss: 0.6884 - acc: 0.5319 - val_loss: 0.6623 - val_acc: 0.5782\n",
      "Epoch 2/16\n",
      "25000/25000 [==============================] - 35s 1ms/step - loss: 0.6848 - acc: 0.5596 - val_loss: 0.7103 - val_acc: 0.5082\n",
      "Epoch 3/16\n",
      "25000/25000 [==============================] - 36s 1ms/step - loss: 0.6651 - acc: 0.5868 - val_loss: 0.6492 - val_acc: 0.5929\n",
      "Epoch 4/16\n",
      "25000/25000 [==============================] - 36s 1ms/step - loss: 0.6002 - acc: 0.6736 - val_loss: 0.6197 - val_acc: 0.6394\n",
      "Epoch 5/16\n",
      "25000/25000 [==============================] - 36s 1ms/step - loss: 0.5161 - acc: 0.7444 - val_loss: 0.5275 - val_acc: 0.7568\n",
      "Epoch 6/16\n",
      "25000/25000 [==============================] - 35s 1ms/step - loss: 0.4322 - acc: 0.8056 - val_loss: 0.4562 - val_acc: 0.7979\n",
      "Epoch 7/16\n",
      "25000/25000 [==============================] - 35s 1ms/step - loss: 0.3603 - acc: 0.8483 - val_loss: 0.4482 - val_acc: 0.7930\n",
      "Epoch 8/16\n",
      "25000/25000 [==============================] - 36s 1ms/step - loss: 0.3015 - acc: 0.8768 - val_loss: 0.4255 - val_acc: 0.8200\n",
      "Epoch 9/16\n",
      "25000/25000 [==============================] - 34s 1ms/step - loss: 0.3089 - acc: 0.8783 - val_loss: 0.4663 - val_acc: 0.8122\n",
      "Epoch 10/16\n",
      "25000/25000 [==============================] - 34s 1ms/step - loss: 0.2553 - acc: 0.9009 - val_loss: 0.4590 - val_acc: 0.7967\n",
      "Epoch 11/16\n",
      "25000/25000 [==============================] - 34s 1ms/step - loss: 0.2569 - acc: 0.9035 - val_loss: 0.5275 - val_acc: 0.8001\n",
      "Epoch 12/16\n",
      "25000/25000 [==============================] - 34s 1ms/step - loss: 0.2153 - acc: 0.9193 - val_loss: 0.4731 - val_acc: 0.7985\n",
      "Epoch 13/16\n",
      "25000/25000 [==============================] - 34s 1ms/step - loss: 0.1895 - acc: 0.9320 - val_loss: 0.5337 - val_acc: 0.8100\n",
      "Epoch 14/16\n",
      "25000/25000 [==============================] - 34s 1ms/step - loss: 0.1734 - acc: 0.9376 - val_loss: 0.5301 - val_acc: 0.8054\n",
      "Epoch 15/16\n",
      "25000/25000 [==============================] - 34s 1ms/step - loss: 0.1675 - acc: 0.9390 - val_loss: 0.5646 - val_acc: 0.7157\n",
      "Epoch 16/16\n",
      "25000/25000 [==============================] - 34s 1ms/step - loss: 0.2300 - acc: 0.9129 - val_loss: 0.5035 - val_acc: 0.8060\n"
     ]
    },
    {
     "data": {
      "text/plain": [
       "<keras.callbacks.History at 0x26d683dbf98>"
      ]
     },
     "execution_count": 12,
     "metadata": {},
     "output_type": "execute_result"
    }
   ],
   "source": [
    "#model.checkpoint\n",
    "model.fit(x_train,y_train, batch_size=batch_size, epochs=epochs, verbose=1, validation_data=(x_valid, y_valid))"
   ]
  }
 ],
 "metadata": {
  "kernelspec": {
   "display_name": "Python 3",
   "language": "python",
   "name": "python3"
  },
  "language_info": {
   "codemirror_mode": {
    "name": "ipython",
    "version": 3
   },
   "file_extension": ".py",
   "mimetype": "text/x-python",
   "name": "python",
   "nbconvert_exporter": "python",
   "pygments_lexer": "ipython3",
   "version": "3.7.1"
  }
 },
 "nbformat": 4,
 "nbformat_minor": 2
}
